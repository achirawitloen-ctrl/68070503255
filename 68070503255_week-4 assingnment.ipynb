{
 "cells": [
  {
   "cell_type": "markdown",
   "id": "42c81a24",
   "metadata": {},
   "source": [
    "# Event and Odd\n",
    "iterate for loop from number 1 to n:\n",
    "if the number is even, print \"[number] is even\"\n",
    "otherwise, print \"[number] is odd\"\n",
    "\n",
    "if n = 5 ==> expected output\n",
    "0 is even.\n",
    "1 is odd.\n",
    "2 is even.\n",
    "3 is odd.\n",
    "4 is even."
   ]
  },
  {
   "cell_type": "code",
   "execution_count": 3,
   "id": "521fabf4",
   "metadata": {},
   "outputs": [
    {
     "name": "stdout",
     "output_type": "stream",
     "text": [
      "0 is even\n",
      "1 is odd\n",
      "2 is even\n",
      "3 is odd\n",
      "4 is even\n"
     ]
    }
   ],
   "source": [
    "n=5\n",
    "for i in range(0,n):\n",
    "    if i%2==0:\n",
    "        print(i,\"is even\")\n",
    "    else:\n",
    "        print(i,\"is odd\")\n"
   ]
  },
  {
   "cell_type": "markdown",
   "id": "6de8f546",
   "metadata": {},
   "source": [
    "Division\n",
    "- define number n = 100\n",
    "- Use a loop from 1 to 10 (the value of looping variable is 1 to 10)\n",
    "- if the result of quotient (number/i) is greater than 5 => print (\"The result is large\")\n",
    "- if the result of quotient (number/i) is exactly equal to 6 ==> skip the loop with continue\n",
    "- otherwise, print the actual quotient ==> print  (\"quotient=\", quotient)\n"
   ]
  },
  {
   "cell_type": "code",
   "execution_count": 5,
   "id": "09631cf9",
   "metadata": {},
   "outputs": [
    {
     "name": "stdout",
     "output_type": "stream",
     "text": [
      "The result is large\n",
      "The result is large\n",
      "The result is large\n",
      "The result is large\n",
      "The result is large\n",
      "The result is large\n",
      "The result is large\n",
      "The result is large\n",
      "The result is large\n",
      "The result is large\n"
     ]
    }
   ],
   "source": [
    "n=100\n",
    "for i in range(1,11):\n",
    "    quotient = n/i\n",
    "    if quotient > 5:\n",
    "        print(\"The result is large\")\n",
    "    elif quotient == 6:\n",
    "        continue\n",
    "    else: print (\"quotient=\", quotient)\n",
    "\n"
   ]
  },
  {
   "cell_type": "markdown",
   "id": "818ba247",
   "metadata": {},
   "source": [
    "login Authentication\n",
    "\n",
    "- Create a dictionary named \"credentials\" with username as key and password as values.\n",
    "- Initialize the dictionary with three users: (username - userl, password - abc123), (username - admin, password - adminpass, username - guest, password - guest123)\n",
    "- Ask the user to enter a username and password.\n",
    "- If the username exists and the password matches, print (\"Login successful\")\n",
    "- If the username exists but the password is wrong, print (\"Incorrect password\")\n",
    "- If the username does not exists, print \"User not found\""
   ]
  },
  {
   "cell_type": "code",
   "execution_count": 11,
   "id": "dbf03417",
   "metadata": {},
   "outputs": [
    {
     "name": "stdout",
     "output_type": "stream",
     "text": [
      "Login successful\n"
     ]
    }
   ],
   "source": [
    "username = input(\"Enter username\")\n",
    "password = input(\"Enter password\")\n",
    "credentials = {'user1': 'abc123', 'admin': 'adminpass', 'guest': 'guest123'}\n",
    "if username in credentials:\n",
    "    if credentials[username] == password:\n",
    "        print(\"Login successful\")\n",
    "    else:\n",
    "        print(\"Incorrect password\")\n",
    "else: \n",
    "    print(\"User not found\")"
   ]
  },
  {
   "cell_type": "code",
   "execution_count": 12,
   "id": "3c3a6bca",
   "metadata": {},
   "outputs": [
    {
     "name": "stdout",
     "output_type": "stream",
     "text": [
      "* \n",
      "* * \n",
      "* * * \n",
      "* * * * \n",
      "* * * * * \n"
     ]
    }
   ],
   "source": [
    "stats = 5\n",
    "rows = 5\n",
    "for i in range(1, rows + 1):\n",
    "    for j in range(1, i + 1):\n",
    "        print(\"*\", end=\" \")\n",
    "    print() # Newline"
   ]
  },
  {
   "cell_type": "markdown",
   "id": "22648498",
   "metadata": {},
   "source": [
    "Shopping Cart checkout\n",
    "\n",
    "Use initial varable total_bill=0\n",
    "Ask user to add price and add the price to total_bill.\n",
    "If total_bill>=1000, print (\"limit reached. You cannot buy anymore\" and break the loop)\n",
    "Otherwise, ask user to add price"
   ]
  },
  {
   "cell_type": "code",
   "execution_count": 15,
   "id": "d73bbfc2",
   "metadata": {},
   "outputs": [
    {
     "name": "stdout",
     "output_type": "stream",
     "text": [
      "Limit reached. You cannot add more \n"
     ]
    }
   ],
   "source": [
    "total_bill=0\n",
    "add_price = int(input(\"Add price:\"))\n",
    "total_bill += add_price\n",
    "while total_bill < 1000:\n",
    "    add_price = int(input(\"Add price:\"))\n",
    "    total_bill += add_price\n",
    "    if total_bill>=1000:\n",
    "        print (\"Limit reached. You cannot add more \")"
   ]
  }
 ],
 "metadata": {
  "kernelspec": {
   "display_name": "Python 3",
   "language": "python",
   "name": "python3"
  },
  "language_info": {
   "codemirror_mode": {
    "name": "ipython",
    "version": 3
   },
   "file_extension": ".py",
   "mimetype": "text/x-python",
   "name": "python",
   "nbconvert_exporter": "python",
   "pygments_lexer": "ipython3",
   "version": "3.12.6"
  }
 },
 "nbformat": 4,
 "nbformat_minor": 5
}
