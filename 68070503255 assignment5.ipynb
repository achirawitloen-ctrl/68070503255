{
 "cells": [
  {
   "cell_type": "code",
   "execution_count": 4,
   "id": "59173732",
   "metadata": {},
   "outputs": [
    {
     "name": "stdout",
     "output_type": "stream",
     "text": [
      "Car rented. Total cost is 5000\n",
      "Model: Toyota\n",
      "Rent per day: 1000\n",
      "Available: No\n",
      "returncar\n",
      "Model: Toyota\n",
      "Rent per day: 1000\n",
      "Available: Yes\n"
     ]
    }
   ],
   "source": [
    "class Car: \n",
    "    def __init__(self, model, rent_per_day, available=True):\n",
    "        self.model = model\n",
    "        self.rent_per_day = rent_per_day\n",
    "        self.available = True\n",
    "    \n",
    "    def rent(self, days):\n",
    "        if self.available:\n",
    "            total_cost = self.rent_per_day * days\n",
    "            self.available = False\n",
    "            print(\"Car rented. Total cost is\", total_cost)\n",
    "        else:\n",
    "            print(\"Car not available\")\n",
    "    def returncar(self):\n",
    "        self.available = True\n",
    "        print (\"returncar\")\n",
    "    def display(self):\n",
    "        print(\"Model:\", self.model)\n",
    "        print(\"Rent per day:\", self.rent_per_day)\n",
    "        print(\"Available:\", \"Yes\" if self.available else \"No\")\n",
    "    \n",
    "car1 = Car(\"Toyota\", 1000)    \n",
    "\n",
    "car1.rent(5)                  \n",
    "car1.display()               \n",
    "car1.returncar()            \n",
    "car1.display()        "
   ]
  },
  {
   "cell_type": "code",
   "execution_count": 6,
   "id": "e86ee316",
   "metadata": {},
   "outputs": [
    {
     "name": "stdout",
     "output_type": "stream",
     "text": [
      "Name: Qi, Age: 18\n",
      "Added Math = 90\n",
      "Added Science = 85\n",
      "Student Marks:\n",
      "Math: 90\n",
      "Science: 85\n",
      "Average Score: 87.5\n"
     ]
    }
   ],
   "source": [
    "class Person:\n",
    "    def __init__(self, name, age):\n",
    "        self.name = name\n",
    "        self.age = age\n",
    "\n",
    "    def display_info(self):\n",
    "        print(f\"Name: {self.name}, Age: {self.age}\")\n",
    "\n",
    "\n",
    "class Student(Person):\n",
    "    def __init__(self, name, age):\n",
    "        super().__init__(name, age)   \n",
    "        self.marks = {}              \n",
    "\n",
    "    def add_mark(self, subject, score):\n",
    "        if subject not in self.marks:\n",
    "            self.marks[subject] = score\n",
    "            print(f\"Added {subject} = {score}\")\n",
    "        else:\n",
    "            old_score = self.marks[subject]\n",
    "            self.marks[subject] = score\n",
    "            print(f\"Updated {subject} = {score}\")\n",
    "\n",
    "    def display_marks(self):\n",
    "        print(\"Student Marks:\")\n",
    "        if not self.marks:\n",
    "            print(\"No marks available.\")\n",
    "        else:\n",
    "            for subject, score in self.marks.items():\n",
    "                print(f\"{subject}: {score}\")\n",
    "\n",
    "    def average(self):\n",
    "        if not self.marks:\n",
    "            return 0\n",
    "        total = sum(self.marks.values())\n",
    "        count = len(self.marks)\n",
    "        return total / count\n",
    "\n",
    "\n",
    "student1 = Student(\"Qi\", 18)       \n",
    "student1.display_info()                 \n",
    "student1.add_mark(\"Math\", 90)        \n",
    "student1.add_mark(\"Science\", 85)\n",
    "\n",
    "student1.display_marks()            \n",
    "\n",
    "avg = student1.average()                 \n",
    "print(f\"Average Score: {avg}\")"
   ]
  }
 ],
 "metadata": {
  "kernelspec": {
   "display_name": "Python 3",
   "language": "python",
   "name": "python3"
  },
  "language_info": {
   "codemirror_mode": {
    "name": "ipython",
    "version": 3
   },
   "file_extension": ".py",
   "mimetype": "text/x-python",
   "name": "python",
   "nbconvert_exporter": "python",
   "pygments_lexer": "ipython3",
   "version": "3.12.6"
  }
 },
 "nbformat": 4,
 "nbformat_minor": 5
}
